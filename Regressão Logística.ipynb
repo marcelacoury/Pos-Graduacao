{
 "cells": [
  {
   "cell_type": "markdown",
   "metadata": {},
   "source": [
    "# Regressão Logística Binária"
   ]
  },
  {
   "cell_type": "markdown",
   "metadata": {},
   "source": [
    "### Importação das bibliotecas, dados e análise inicial"
   ]
  },
  {
   "cell_type": "code",
   "execution_count": 2,
   "metadata": {},
   "outputs": [],
   "source": [
    "import numpy as np\n",
    "import pandas as pd\n",
    "import matplotlib.pyplot as plt"
   ]
  },
  {
   "cell_type": "markdown",
   "metadata": {},
   "source": [
    "* O dataset contém dados de pessoas que tiveram resultado positivo para a COVID-19, relacionando com algumas doenças preexistentes"
   ]
  },
  {
   "cell_type": "code",
   "execution_count": 3,
   "metadata": {},
   "outputs": [],
   "source": [
    "doenca = pd.read_csv('casos_obitos_doencas_preexistentes.csv', sep=';', encoding='utf-8')"
   ]
  },
  {
   "cell_type": "code",
   "execution_count": 4,
   "metadata": {},
   "outputs": [
    {
     "data": {
      "text/html": [
       "<div>\n",
       "<style scoped>\n",
       "    .dataframe tbody tr th:only-of-type {\n",
       "        vertical-align: middle;\n",
       "    }\n",
       "\n",
       "    .dataframe tbody tr th {\n",
       "        vertical-align: top;\n",
       "    }\n",
       "\n",
       "    .dataframe thead th {\n",
       "        text-align: right;\n",
       "    }\n",
       "</style>\n",
       "<table border=\"1\" class=\"dataframe\">\n",
       "  <thead>\n",
       "    <tr style=\"text-align: right;\">\n",
       "      <th></th>\n",
       "      <th>nome_munic</th>\n",
       "      <th>codigo_ibge</th>\n",
       "      <th>idade</th>\n",
       "      <th>cs_sexo</th>\n",
       "      <th>diagnostico_covid19</th>\n",
       "      <th>data_inicio_sintomas</th>\n",
       "      <th>obito</th>\n",
       "      <th>asma</th>\n",
       "      <th>cardiopatia</th>\n",
       "      <th>diabetes</th>\n",
       "      <th>doenca_hematologica</th>\n",
       "      <th>doenca_hepatica</th>\n",
       "      <th>doenca_neurologica</th>\n",
       "      <th>doenca_renal</th>\n",
       "      <th>imunodepressao</th>\n",
       "      <th>obesidade</th>\n",
       "      <th>outros_fatores_de_risco</th>\n",
       "      <th>pneumopatia</th>\n",
       "      <th>puerpera</th>\n",
       "      <th>sindrome_de_down</th>\n",
       "    </tr>\n",
       "  </thead>\n",
       "  <tbody>\n",
       "    <tr>\n",
       "      <th>0</th>\n",
       "      <td>Carapicuíba</td>\n",
       "      <td>3510609</td>\n",
       "      <td>36.0</td>\n",
       "      <td>FEMININO</td>\n",
       "      <td>CONFIRMADO</td>\n",
       "      <td>2020-07-10</td>\n",
       "      <td>0</td>\n",
       "      <td>IGNORADO</td>\n",
       "      <td>IGNORADO</td>\n",
       "      <td>IGNORADO</td>\n",
       "      <td>IGNORADO</td>\n",
       "      <td>IGNORADO</td>\n",
       "      <td>IGNORADO</td>\n",
       "      <td>IGNORADO</td>\n",
       "      <td>IGNORADO</td>\n",
       "      <td>IGNORADO</td>\n",
       "      <td>IGNORADO</td>\n",
       "      <td>IGNORADO</td>\n",
       "      <td>IGNORADO</td>\n",
       "      <td>IGNORADO</td>\n",
       "    </tr>\n",
       "    <tr>\n",
       "      <th>1</th>\n",
       "      <td>Jacareí</td>\n",
       "      <td>3524402</td>\n",
       "      <td>54.0</td>\n",
       "      <td>FEMININO</td>\n",
       "      <td>CONFIRMADO</td>\n",
       "      <td>2020-07-09</td>\n",
       "      <td>0</td>\n",
       "      <td>IGNORADO</td>\n",
       "      <td>IGNORADO</td>\n",
       "      <td>IGNORADO</td>\n",
       "      <td>IGNORADO</td>\n",
       "      <td>IGNORADO</td>\n",
       "      <td>IGNORADO</td>\n",
       "      <td>IGNORADO</td>\n",
       "      <td>IGNORADO</td>\n",
       "      <td>IGNORADO</td>\n",
       "      <td>IGNORADO</td>\n",
       "      <td>IGNORADO</td>\n",
       "      <td>IGNORADO</td>\n",
       "      <td>IGNORADO</td>\n",
       "    </tr>\n",
       "    <tr>\n",
       "      <th>2</th>\n",
       "      <td>Vargem Grande Paulista</td>\n",
       "      <td>3556453</td>\n",
       "      <td>33.0</td>\n",
       "      <td>FEMININO</td>\n",
       "      <td>CONFIRMADO</td>\n",
       "      <td>2020-07-10</td>\n",
       "      <td>0</td>\n",
       "      <td>IGNORADO</td>\n",
       "      <td>IGNORADO</td>\n",
       "      <td>IGNORADO</td>\n",
       "      <td>IGNORADO</td>\n",
       "      <td>IGNORADO</td>\n",
       "      <td>IGNORADO</td>\n",
       "      <td>IGNORADO</td>\n",
       "      <td>IGNORADO</td>\n",
       "      <td>IGNORADO</td>\n",
       "      <td>IGNORADO</td>\n",
       "      <td>IGNORADO</td>\n",
       "      <td>IGNORADO</td>\n",
       "      <td>IGNORADO</td>\n",
       "    </tr>\n",
       "    <tr>\n",
       "      <th>3</th>\n",
       "      <td>Paulínia</td>\n",
       "      <td>3536505</td>\n",
       "      <td>47.0</td>\n",
       "      <td>FEMININO</td>\n",
       "      <td>CONFIRMADO</td>\n",
       "      <td>2021-01-25</td>\n",
       "      <td>0</td>\n",
       "      <td>IGNORADO</td>\n",
       "      <td>IGNORADO</td>\n",
       "      <td>IGNORADO</td>\n",
       "      <td>IGNORADO</td>\n",
       "      <td>IGNORADO</td>\n",
       "      <td>IGNORADO</td>\n",
       "      <td>IGNORADO</td>\n",
       "      <td>IGNORADO</td>\n",
       "      <td>IGNORADO</td>\n",
       "      <td>IGNORADO</td>\n",
       "      <td>IGNORADO</td>\n",
       "      <td>IGNORADO</td>\n",
       "      <td>IGNORADO</td>\n",
       "    </tr>\n",
       "    <tr>\n",
       "      <th>4</th>\n",
       "      <td>Santo André</td>\n",
       "      <td>3547809</td>\n",
       "      <td>41.0</td>\n",
       "      <td>FEMININO</td>\n",
       "      <td>CONFIRMADO</td>\n",
       "      <td>2021-01-10</td>\n",
       "      <td>0</td>\n",
       "      <td>IGNORADO</td>\n",
       "      <td>IGNORADO</td>\n",
       "      <td>IGNORADO</td>\n",
       "      <td>IGNORADO</td>\n",
       "      <td>IGNORADO</td>\n",
       "      <td>IGNORADO</td>\n",
       "      <td>IGNORADO</td>\n",
       "      <td>IGNORADO</td>\n",
       "      <td>IGNORADO</td>\n",
       "      <td>IGNORADO</td>\n",
       "      <td>IGNORADO</td>\n",
       "      <td>IGNORADO</td>\n",
       "      <td>IGNORADO</td>\n",
       "    </tr>\n",
       "    <tr>\n",
       "      <th>5</th>\n",
       "      <td>São Paulo</td>\n",
       "      <td>3550308</td>\n",
       "      <td>32.0</td>\n",
       "      <td>FEMININO</td>\n",
       "      <td>CONFIRMADO</td>\n",
       "      <td>NaN</td>\n",
       "      <td>0</td>\n",
       "      <td>IGNORADO</td>\n",
       "      <td>IGNORADO</td>\n",
       "      <td>IGNORADO</td>\n",
       "      <td>IGNORADO</td>\n",
       "      <td>IGNORADO</td>\n",
       "      <td>IGNORADO</td>\n",
       "      <td>IGNORADO</td>\n",
       "      <td>IGNORADO</td>\n",
       "      <td>IGNORADO</td>\n",
       "      <td>IGNORADO</td>\n",
       "      <td>IGNORADO</td>\n",
       "      <td>IGNORADO</td>\n",
       "      <td>IGNORADO</td>\n",
       "    </tr>\n",
       "    <tr>\n",
       "      <th>6</th>\n",
       "      <td>São Paulo</td>\n",
       "      <td>3550308</td>\n",
       "      <td>34.0</td>\n",
       "      <td>FEMININO</td>\n",
       "      <td>CONFIRMADO</td>\n",
       "      <td>2020-07-01</td>\n",
       "      <td>0</td>\n",
       "      <td>IGNORADO</td>\n",
       "      <td>IGNORADO</td>\n",
       "      <td>IGNORADO</td>\n",
       "      <td>IGNORADO</td>\n",
       "      <td>IGNORADO</td>\n",
       "      <td>IGNORADO</td>\n",
       "      <td>IGNORADO</td>\n",
       "      <td>IGNORADO</td>\n",
       "      <td>IGNORADO</td>\n",
       "      <td>IGNORADO</td>\n",
       "      <td>IGNORADO</td>\n",
       "      <td>IGNORADO</td>\n",
       "      <td>IGNORADO</td>\n",
       "    </tr>\n",
       "    <tr>\n",
       "      <th>7</th>\n",
       "      <td>São Bernardo do Campo</td>\n",
       "      <td>3548708</td>\n",
       "      <td>43.0</td>\n",
       "      <td>FEMININO</td>\n",
       "      <td>CONFIRMADO</td>\n",
       "      <td>2020-12-20</td>\n",
       "      <td>0</td>\n",
       "      <td>IGNORADO</td>\n",
       "      <td>IGNORADO</td>\n",
       "      <td>IGNORADO</td>\n",
       "      <td>IGNORADO</td>\n",
       "      <td>IGNORADO</td>\n",
       "      <td>IGNORADO</td>\n",
       "      <td>IGNORADO</td>\n",
       "      <td>IGNORADO</td>\n",
       "      <td>IGNORADO</td>\n",
       "      <td>IGNORADO</td>\n",
       "      <td>IGNORADO</td>\n",
       "      <td>IGNORADO</td>\n",
       "      <td>IGNORADO</td>\n",
       "    </tr>\n",
       "    <tr>\n",
       "      <th>8</th>\n",
       "      <td>São Paulo</td>\n",
       "      <td>3550308</td>\n",
       "      <td>40.0</td>\n",
       "      <td>FEMININO</td>\n",
       "      <td>CONFIRMADO</td>\n",
       "      <td>2020-08-28</td>\n",
       "      <td>0</td>\n",
       "      <td>IGNORADO</td>\n",
       "      <td>IGNORADO</td>\n",
       "      <td>IGNORADO</td>\n",
       "      <td>IGNORADO</td>\n",
       "      <td>IGNORADO</td>\n",
       "      <td>IGNORADO</td>\n",
       "      <td>IGNORADO</td>\n",
       "      <td>IGNORADO</td>\n",
       "      <td>IGNORADO</td>\n",
       "      <td>IGNORADO</td>\n",
       "      <td>IGNORADO</td>\n",
       "      <td>IGNORADO</td>\n",
       "      <td>IGNORADO</td>\n",
       "    </tr>\n",
       "    <tr>\n",
       "      <th>9</th>\n",
       "      <td>Martinópolis</td>\n",
       "      <td>3529203</td>\n",
       "      <td>38.0</td>\n",
       "      <td>FEMININO</td>\n",
       "      <td>CONFIRMADO</td>\n",
       "      <td>2020-06-11</td>\n",
       "      <td>0</td>\n",
       "      <td>IGNORADO</td>\n",
       "      <td>IGNORADO</td>\n",
       "      <td>IGNORADO</td>\n",
       "      <td>IGNORADO</td>\n",
       "      <td>IGNORADO</td>\n",
       "      <td>IGNORADO</td>\n",
       "      <td>IGNORADO</td>\n",
       "      <td>IGNORADO</td>\n",
       "      <td>IGNORADO</td>\n",
       "      <td>IGNORADO</td>\n",
       "      <td>IGNORADO</td>\n",
       "      <td>IGNORADO</td>\n",
       "      <td>IGNORADO</td>\n",
       "    </tr>\n",
       "  </tbody>\n",
       "</table>\n",
       "</div>"
      ],
      "text/plain": [
       "               nome_munic  codigo_ibge  idade   cs_sexo diagnostico_covid19  \\\n",
       "0             Carapicuíba      3510609   36.0  FEMININO          CONFIRMADO   \n",
       "1                 Jacareí      3524402   54.0  FEMININO          CONFIRMADO   \n",
       "2  Vargem Grande Paulista      3556453   33.0  FEMININO          CONFIRMADO   \n",
       "3                Paulínia      3536505   47.0  FEMININO          CONFIRMADO   \n",
       "4             Santo André      3547809   41.0  FEMININO          CONFIRMADO   \n",
       "5               São Paulo      3550308   32.0  FEMININO          CONFIRMADO   \n",
       "6               São Paulo      3550308   34.0  FEMININO          CONFIRMADO   \n",
       "7   São Bernardo do Campo      3548708   43.0  FEMININO          CONFIRMADO   \n",
       "8               São Paulo      3550308   40.0  FEMININO          CONFIRMADO   \n",
       "9            Martinópolis      3529203   38.0  FEMININO          CONFIRMADO   \n",
       "\n",
       "  data_inicio_sintomas  obito      asma cardiopatia  diabetes  \\\n",
       "0           2020-07-10      0  IGNORADO    IGNORADO  IGNORADO   \n",
       "1           2020-07-09      0  IGNORADO    IGNORADO  IGNORADO   \n",
       "2           2020-07-10      0  IGNORADO    IGNORADO  IGNORADO   \n",
       "3           2021-01-25      0  IGNORADO    IGNORADO  IGNORADO   \n",
       "4           2021-01-10      0  IGNORADO    IGNORADO  IGNORADO   \n",
       "5                  NaN      0  IGNORADO    IGNORADO  IGNORADO   \n",
       "6           2020-07-01      0  IGNORADO    IGNORADO  IGNORADO   \n",
       "7           2020-12-20      0  IGNORADO    IGNORADO  IGNORADO   \n",
       "8           2020-08-28      0  IGNORADO    IGNORADO  IGNORADO   \n",
       "9           2020-06-11      0  IGNORADO    IGNORADO  IGNORADO   \n",
       "\n",
       "  doenca_hematologica doenca_hepatica doenca_neurologica doenca_renal  \\\n",
       "0            IGNORADO        IGNORADO           IGNORADO     IGNORADO   \n",
       "1            IGNORADO        IGNORADO           IGNORADO     IGNORADO   \n",
       "2            IGNORADO        IGNORADO           IGNORADO     IGNORADO   \n",
       "3            IGNORADO        IGNORADO           IGNORADO     IGNORADO   \n",
       "4            IGNORADO        IGNORADO           IGNORADO     IGNORADO   \n",
       "5            IGNORADO        IGNORADO           IGNORADO     IGNORADO   \n",
       "6            IGNORADO        IGNORADO           IGNORADO     IGNORADO   \n",
       "7            IGNORADO        IGNORADO           IGNORADO     IGNORADO   \n",
       "8            IGNORADO        IGNORADO           IGNORADO     IGNORADO   \n",
       "9            IGNORADO        IGNORADO           IGNORADO     IGNORADO   \n",
       "\n",
       "  imunodepressao obesidade outros_fatores_de_risco pneumopatia  puerpera  \\\n",
       "0       IGNORADO  IGNORADO                IGNORADO    IGNORADO  IGNORADO   \n",
       "1       IGNORADO  IGNORADO                IGNORADO    IGNORADO  IGNORADO   \n",
       "2       IGNORADO  IGNORADO                IGNORADO    IGNORADO  IGNORADO   \n",
       "3       IGNORADO  IGNORADO                IGNORADO    IGNORADO  IGNORADO   \n",
       "4       IGNORADO  IGNORADO                IGNORADO    IGNORADO  IGNORADO   \n",
       "5       IGNORADO  IGNORADO                IGNORADO    IGNORADO  IGNORADO   \n",
       "6       IGNORADO  IGNORADO                IGNORADO    IGNORADO  IGNORADO   \n",
       "7       IGNORADO  IGNORADO                IGNORADO    IGNORADO  IGNORADO   \n",
       "8       IGNORADO  IGNORADO                IGNORADO    IGNORADO  IGNORADO   \n",
       "9       IGNORADO  IGNORADO                IGNORADO    IGNORADO  IGNORADO   \n",
       "\n",
       "  sindrome_de_down  \n",
       "0         IGNORADO  \n",
       "1         IGNORADO  \n",
       "2         IGNORADO  \n",
       "3         IGNORADO  \n",
       "4         IGNORADO  \n",
       "5         IGNORADO  \n",
       "6         IGNORADO  \n",
       "7         IGNORADO  \n",
       "8         IGNORADO  \n",
       "9         IGNORADO  "
      ]
     },
     "execution_count": 4,
     "metadata": {},
     "output_type": "execute_result"
    }
   ],
   "source": [
    "doenca.head(10)"
   ]
  },
  {
   "cell_type": "code",
   "execution_count": 5,
   "metadata": {},
   "outputs": [
    {
     "data": {
      "text/plain": [
       "(2044699, 20)"
      ]
     },
     "execution_count": 5,
     "metadata": {},
     "output_type": "execute_result"
    }
   ],
   "source": [
    "doenca.shape"
   ]
  },
  {
   "cell_type": "code",
   "execution_count": 6,
   "metadata": {},
   "outputs": [
    {
     "data": {
      "text/plain": [
       "0    1985153\n",
       "1      59546\n",
       "Name: obito, dtype: int64"
      ]
     },
     "execution_count": 6,
     "metadata": {},
     "output_type": "execute_result"
    }
   ],
   "source": [
    "doenca.obito.value_counts()"
   ]
  },
  {
   "cell_type": "code",
   "execution_count": 7,
   "metadata": {},
   "outputs": [
    {
     "data": {
      "text/plain": [
       "nome_munic                     0\n",
       "codigo_ibge                    0\n",
       "idade                       2707\n",
       "cs_sexo                        1\n",
       "diagnostico_covid19            0\n",
       "data_inicio_sintomas       34042\n",
       "obito                          0\n",
       "asma                           0\n",
       "cardiopatia                    0\n",
       "diabetes                       0\n",
       "doenca_hematologica            0\n",
       "doenca_hepatica                0\n",
       "doenca_neurologica             0\n",
       "doenca_renal                   0\n",
       "imunodepressao                 0\n",
       "obesidade                      0\n",
       "outros_fatores_de_risco        0\n",
       "pneumopatia                    0\n",
       "puerpera                       0\n",
       "sindrome_de_down               0\n",
       "dtype: int64"
      ]
     },
     "execution_count": 7,
     "metadata": {},
     "output_type": "execute_result"
    }
   ],
   "source": [
    "doenca.isnull().sum()"
   ]
  },
  {
   "cell_type": "markdown",
   "metadata": {},
   "source": [
    "Esse dataset contém mais 2 milhões de respostas (linhas) e 20 atributos/características. Com relação ao obito, 1 985 153 pessoas sobreviveram e 59 546 morreram de COVID-19. \n",
    "\n",
    "Temos dados nulos apenas em idade, data do início dos sintomas e 1 em sexo."
   ]
  },
  {
   "cell_type": "markdown",
   "metadata": {},
   "source": [
    "* Analisando se existe tendência de obito entre pessoas do sexo masculino e feminino. Como iremos analisar dados do sexo e existe apenas 1 dado nulo, vamos optar por retirar a linha do dataset."
   ]
  },
  {
   "cell_type": "code",
   "execution_count": 8,
   "metadata": {},
   "outputs": [
    {
     "data": {
      "text/plain": [
       "FEMININO      1094872\n",
       "MASCULINO      944309\n",
       "INDEFINIDO       5487\n",
       "IGNORADO           30\n",
       "Name: cs_sexo, dtype: int64"
      ]
     },
     "execution_count": 8,
     "metadata": {},
     "output_type": "execute_result"
    }
   ],
   "source": [
    "doenca.cs_sexo.value_counts()"
   ]
  },
  {
   "cell_type": "code",
   "execution_count": 9,
   "metadata": {},
   "outputs": [],
   "source": [
    "doenca.dropna(subset=['cs_sexo'], inplace=True)"
   ]
  },
  {
   "cell_type": "markdown",
   "metadata": {},
   "source": [
    "* Como o objetivo é ver a relação com pessoas do sexo feminino e masculino, e as pessoas que responderam indefinido ou ignoraram o campo são poucos dados em relação ao total, iremos retirar os dados de indefinido e ignorado do dataset"
   ]
  },
  {
   "cell_type": "code",
   "execution_count": 10,
   "metadata": {},
   "outputs": [],
   "source": [
    "df_doenca = doenca.loc[doenca.cs_sexo != 'INDEFINIDO']"
   ]
  },
  {
   "cell_type": "code",
   "execution_count": 11,
   "metadata": {},
   "outputs": [],
   "source": [
    "df_doenca = df_doenca.loc[doenca.cs_sexo != 'IGNORADO']"
   ]
  },
  {
   "cell_type": "code",
   "execution_count": 12,
   "metadata": {},
   "outputs": [
    {
     "data": {
      "text/plain": [
       "FEMININO     1094872\n",
       "MASCULINO     944309\n",
       "Name: cs_sexo, dtype: int64"
      ]
     },
     "execution_count": 12,
     "metadata": {},
     "output_type": "execute_result"
    }
   ],
   "source": [
    "df_doenca.cs_sexo.value_counts()"
   ]
  },
  {
   "cell_type": "code",
   "execution_count": 13,
   "metadata": {},
   "outputs": [
    {
     "data": {
      "image/png": "[encoded data removed]",
      "text/plain": [
       "<Figure size 432x288 with 1 Axes>"
      ]
     },
     "metadata": {
      "needs_background": "light"
     },
     "output_type": "display_data"
    }
   ],
   "source": [
    "fig, ax = plt.subplots()\n",
    "ax.pie(df_doenca.cs_sexo.value_counts(), radius=3, center=(4, 4),\n",
    "       wedgeprops={\"linewidth\": 1, \"edgecolor\": \"white\"}, frame=True)\n",
    "ax.set(xlim=(0, 8), xticks=np.arange(1, 8),\n",
    "       ylim=(0, 8), yticks=np.arange(1, 8))\n",
    "plt.legend(df_doenca.obito.value_counts().index)\n",
    "plt.show()"
   ]
  },
  {
   "cell_type": "markdown",
   "metadata": {},
   "source": [
    "Há um balanceamento dos dados entre masculino e feminino."
   ]
  },
  {
   "cell_type": "code",
   "execution_count": 14,
   "metadata": {},
   "outputs": [
    {
     "data": {
      "text/plain": [
       "0    1979636\n",
       "1      59545\n",
       "Name: obito, dtype: int64"
      ]
     },
     "execution_count": 14,
     "metadata": {},
     "output_type": "execute_result"
    }
   ],
   "source": [
    "df_doenca.obito.value_counts()"
   ]
  },
  {
   "cell_type": "code",
   "execution_count": 15,
   "metadata": {},
   "outputs": [
    {
     "data": {
      "image/png": "[encoded data removed]",
      "text/plain": [
       "<Figure size 432x288 with 1 Axes>"
      ]
     },
     "metadata": {},
     "output_type": "display_data"
    }
   ],
   "source": [
    "plt.pie(df_doenca.obito.value_counts())\n",
    "plt.title('Relação sobrevivência')\n",
    "plt.legend(df_doenca.obito.value_counts().index)\n",
    "plt.show()"
   ]
  },
  {
   "cell_type": "markdown",
   "metadata": {},
   "source": [
    "Com relação ao obito, há mais dados de pessoas que foram confirmadas com COVID mas não morreram."
   ]
  },
  {
   "cell_type": "markdown",
   "metadata": {},
   "source": [
    "* Analisando os tipos de atributos"
   ]
  },
  {
   "cell_type": "code",
   "execution_count": 16,
   "metadata": {},
   "outputs": [
    {
     "data": {
      "text/plain": [
       "nome_munic                  object\n",
       "codigo_ibge                  int64\n",
       "idade                      float64\n",
       "cs_sexo                     object\n",
       "diagnostico_covid19         object\n",
       "data_inicio_sintomas        object\n",
       "obito                        int64\n",
       "asma                        object\n",
       "cardiopatia                 object\n",
       "diabetes                    object\n",
       "doenca_hematologica         object\n",
       "doenca_hepatica             object\n",
       "doenca_neurologica          object\n",
       "doenca_renal                object\n",
       "imunodepressao              object\n",
       "obesidade                   object\n",
       "outros_fatores_de_risco     object\n",
       "pneumopatia                 object\n",
       "puerpera                    object\n",
       "sindrome_de_down            object\n",
       "dtype: object"
      ]
     },
     "execution_count": 16,
     "metadata": {},
     "output_type": "execute_result"
    }
   ],
   "source": [
    "df_doenca.dtypes"
   ]
  },
  {
   "cell_type": "markdown",
   "metadata": {},
   "source": [
    "Para a regressão logística precisamos de variáveis categóricas. Portanto, iremos alterar o tipo de dado do obito e do sexo."
   ]
  },
  {
   "cell_type": "code",
   "execution_count": 17,
   "metadata": {},
   "outputs": [],
   "source": [
    "df_doenca['obito'] = df_doenca['obito'].replace({0: 'Sobreviveu', 1: 'Morreu'})"
   ]
  },
  {
   "cell_type": "code",
   "execution_count": 18,
   "metadata": {},
   "outputs": [
    {
     "data": {
      "text/html": [
       "<div>\n",
       "<style scoped>\n",
       "    .dataframe tbody tr th:only-of-type {\n",
       "        vertical-align: middle;\n",
       "    }\n",
       "\n",
       "    .dataframe tbody tr th {\n",
       "        vertical-align: top;\n",
       "    }\n",
       "\n",
       "    .dataframe thead th {\n",
       "        text-align: right;\n",
       "    }\n",
       "</style>\n",
       "<table border=\"1\" class=\"dataframe\">\n",
       "  <thead>\n",
       "    <tr style=\"text-align: right;\">\n",
       "      <th></th>\n",
       "      <th>nome_munic</th>\n",
       "      <th>codigo_ibge</th>\n",
       "      <th>idade</th>\n",
       "      <th>cs_sexo</th>\n",
       "      <th>diagnostico_covid19</th>\n",
       "      <th>data_inicio_sintomas</th>\n",
       "      <th>obito</th>\n",
       "      <th>asma</th>\n",
       "      <th>cardiopatia</th>\n",
       "      <th>diabetes</th>\n",
       "      <th>doenca_hematologica</th>\n",
       "      <th>doenca_hepatica</th>\n",
       "      <th>doenca_neurologica</th>\n",
       "      <th>doenca_renal</th>\n",
       "      <th>imunodepressao</th>\n",
       "      <th>obesidade</th>\n",
       "      <th>outros_fatores_de_risco</th>\n",
       "      <th>pneumopatia</th>\n",
       "      <th>puerpera</th>\n",
       "      <th>sindrome_de_down</th>\n",
       "    </tr>\n",
       "  </thead>\n",
       "  <tbody>\n",
       "    <tr>\n",
       "      <th>0</th>\n",
       "      <td>Carapicuíba</td>\n",
       "      <td>3510609</td>\n",
       "      <td>36.0</td>\n",
       "      <td>FEMININO</td>\n",
       "      <td>CONFIRMADO</td>\n",
       "      <td>2020-07-10</td>\n",
       "      <td>Sobreviveu</td>\n",
       "      <td>IGNORADO</td>\n",
       "      <td>IGNORADO</td>\n",
       "      <td>IGNORADO</td>\n",
       "      <td>IGNORADO</td>\n",
       "      <td>IGNORADO</td>\n",
       "      <td>IGNORADO</td>\n",
       "      <td>IGNORADO</td>\n",
       "      <td>IGNORADO</td>\n",
       "      <td>IGNORADO</td>\n",
       "      <td>IGNORADO</td>\n",
       "      <td>IGNORADO</td>\n",
       "      <td>IGNORADO</td>\n",
       "      <td>IGNORADO</td>\n",
       "    </tr>\n",
       "    <tr>\n",
       "      <th>1</th>\n",
       "      <td>Jacareí</td>\n",
       "      <td>3524402</td>\n",
       "      <td>54.0</td>\n",
       "      <td>FEMININO</td>\n",
       "      <td>CONFIRMADO</td>\n",
       "      <td>2020-07-09</td>\n",
       "      <td>Sobreviveu</td>\n",
       "      <td>IGNORADO</td>\n",
       "      <td>IGNORADO</td>\n",
       "      <td>IGNORADO</td>\n",
       "      <td>IGNORADO</td>\n",
       "      <td>IGNORADO</td>\n",
       "      <td>IGNORADO</td>\n",
       "      <td>IGNORADO</td>\n",
       "      <td>IGNORADO</td>\n",
       "      <td>IGNORADO</td>\n",
       "      <td>IGNORADO</td>\n",
       "      <td>IGNORADO</td>\n",
       "      <td>IGNORADO</td>\n",
       "      <td>IGNORADO</td>\n",
       "    </tr>\n",
       "    <tr>\n",
       "      <th>2</th>\n",
       "      <td>Vargem Grande Paulista</td>\n",
       "      <td>3556453</td>\n",
       "      <td>33.0</td>\n",
       "      <td>FEMININO</td>\n",
       "      <td>CONFIRMADO</td>\n",
       "      <td>2020-07-10</td>\n",
       "      <td>Sobreviveu</td>\n",
       "      <td>IGNORADO</td>\n",
       "      <td>IGNORADO</td>\n",
       "      <td>IGNORADO</td>\n",
       "      <td>IGNORADO</td>\n",
       "      <td>IGNORADO</td>\n",
       "      <td>IGNORADO</td>\n",
       "      <td>IGNORADO</td>\n",
       "      <td>IGNORADO</td>\n",
       "      <td>IGNORADO</td>\n",
       "      <td>IGNORADO</td>\n",
       "      <td>IGNORADO</td>\n",
       "      <td>IGNORADO</td>\n",
       "      <td>IGNORADO</td>\n",
       "    </tr>\n",
       "    <tr>\n",
       "      <th>3</th>\n",
       "      <td>Paulínia</td>\n",
       "      <td>3536505</td>\n",
       "      <td>47.0</td>\n",
       "      <td>FEMININO</td>\n",
       "      <td>CONFIRMADO</td>\n",
       "      <td>2021-01-25</td>\n",
       "      <td>Sobreviveu</td>\n",
       "      <td>IGNORADO</td>\n",
       "      <td>IGNORADO</td>\n",
       "      <td>IGNORADO</td>\n",
       "      <td>IGNORADO</td>\n",
       "      <td>IGNORADO</td>\n",
       "      <td>IGNORADO</td>\n",
       "      <td>IGNORADO</td>\n",
       "      <td>IGNORADO</td>\n",
       "      <td>IGNORADO</td>\n",
       "      <td>IGNORADO</td>\n",
       "      <td>IGNORADO</td>\n",
       "      <td>IGNORADO</td>\n",
       "      <td>IGNORADO</td>\n",
       "    </tr>\n",
       "    <tr>\n",
       "      <th>4</th>\n",
       "      <td>Santo André</td>\n",
       "      <td>3547809</td>\n",
       "      <td>41.0</td>\n",
       "      <td>FEMININO</td>\n",
       "      <td>CONFIRMADO</td>\n",
       "      <td>2021-01-10</td>\n",
       "      <td>Sobreviveu</td>\n",
       "      <td>IGNORADO</td>\n",
       "      <td>IGNORADO</td>\n",
       "      <td>IGNORADO</td>\n",
       "      <td>IGNORADO</td>\n",
       "      <td>IGNORADO</td>\n",
       "      <td>IGNORADO</td>\n",
       "      <td>IGNORADO</td>\n",
       "      <td>IGNORADO</td>\n",
       "      <td>IGNORADO</td>\n",
       "      <td>IGNORADO</td>\n",
       "      <td>IGNORADO</td>\n",
       "      <td>IGNORADO</td>\n",
       "      <td>IGNORADO</td>\n",
       "    </tr>\n",
       "    <tr>\n",
       "      <th>...</th>\n",
       "      <td>...</td>\n",
       "      <td>...</td>\n",
       "      <td>...</td>\n",
       "      <td>...</td>\n",
       "      <td>...</td>\n",
       "      <td>...</td>\n",
       "      <td>...</td>\n",
       "      <td>...</td>\n",
       "      <td>...</td>\n",
       "      <td>...</td>\n",
       "      <td>...</td>\n",
       "      <td>...</td>\n",
       "      <td>...</td>\n",
       "      <td>...</td>\n",
       "      <td>...</td>\n",
       "      <td>...</td>\n",
       "      <td>...</td>\n",
       "      <td>...</td>\n",
       "      <td>...</td>\n",
       "      <td>...</td>\n",
       "    </tr>\n",
       "    <tr>\n",
       "      <th>2044694</th>\n",
       "      <td>São Paulo</td>\n",
       "      <td>3550308</td>\n",
       "      <td>18.0</td>\n",
       "      <td>MASCULINO</td>\n",
       "      <td>CONFIRMADO</td>\n",
       "      <td>2020-06-17</td>\n",
       "      <td>Sobreviveu</td>\n",
       "      <td>IGNORADO</td>\n",
       "      <td>IGNORADO</td>\n",
       "      <td>IGNORADO</td>\n",
       "      <td>IGNORADO</td>\n",
       "      <td>IGNORADO</td>\n",
       "      <td>IGNORADO</td>\n",
       "      <td>IGNORADO</td>\n",
       "      <td>IGNORADO</td>\n",
       "      <td>IGNORADO</td>\n",
       "      <td>IGNORADO</td>\n",
       "      <td>IGNORADO</td>\n",
       "      <td>IGNORADO</td>\n",
       "      <td>IGNORADO</td>\n",
       "    </tr>\n",
       "    <tr>\n",
       "      <th>2044695</th>\n",
       "      <td>Campos do Jordão</td>\n",
       "      <td>3509700</td>\n",
       "      <td>42.0</td>\n",
       "      <td>FEMININO</td>\n",
       "      <td>CONFIRMADO</td>\n",
       "      <td>2021-01-24</td>\n",
       "      <td>Sobreviveu</td>\n",
       "      <td>IGNORADO</td>\n",
       "      <td>IGNORADO</td>\n",
       "      <td>IGNORADO</td>\n",
       "      <td>IGNORADO</td>\n",
       "      <td>IGNORADO</td>\n",
       "      <td>IGNORADO</td>\n",
       "      <td>IGNORADO</td>\n",
       "      <td>IGNORADO</td>\n",
       "      <td>IGNORADO</td>\n",
       "      <td>IGNORADO</td>\n",
       "      <td>IGNORADO</td>\n",
       "      <td>IGNORADO</td>\n",
       "      <td>IGNORADO</td>\n",
       "    </tr>\n",
       "    <tr>\n",
       "      <th>2044696</th>\n",
       "      <td>Ilha Solteira</td>\n",
       "      <td>3520442</td>\n",
       "      <td>26.0</td>\n",
       "      <td>FEMININO</td>\n",
       "      <td>CONFIRMADO</td>\n",
       "      <td>2021-01-14</td>\n",
       "      <td>Sobreviveu</td>\n",
       "      <td>IGNORADO</td>\n",
       "      <td>IGNORADO</td>\n",
       "      <td>IGNORADO</td>\n",
       "      <td>IGNORADO</td>\n",
       "      <td>IGNORADO</td>\n",
       "      <td>IGNORADO</td>\n",
       "      <td>IGNORADO</td>\n",
       "      <td>IGNORADO</td>\n",
       "      <td>IGNORADO</td>\n",
       "      <td>IGNORADO</td>\n",
       "      <td>IGNORADO</td>\n",
       "      <td>IGNORADO</td>\n",
       "      <td>IGNORADO</td>\n",
       "    </tr>\n",
       "    <tr>\n",
       "      <th>2044697</th>\n",
       "      <td>Guareí</td>\n",
       "      <td>3518503</td>\n",
       "      <td>31.0</td>\n",
       "      <td>MASCULINO</td>\n",
       "      <td>CONFIRMADO</td>\n",
       "      <td>NaN</td>\n",
       "      <td>Sobreviveu</td>\n",
       "      <td>IGNORADO</td>\n",
       "      <td>IGNORADO</td>\n",
       "      <td>IGNORADO</td>\n",
       "      <td>IGNORADO</td>\n",
       "      <td>IGNORADO</td>\n",
       "      <td>IGNORADO</td>\n",
       "      <td>IGNORADO</td>\n",
       "      <td>IGNORADO</td>\n",
       "      <td>IGNORADO</td>\n",
       "      <td>IGNORADO</td>\n",
       "      <td>IGNORADO</td>\n",
       "      <td>IGNORADO</td>\n",
       "      <td>IGNORADO</td>\n",
       "    </tr>\n",
       "    <tr>\n",
       "      <th>2044698</th>\n",
       "      <td>Registro</td>\n",
       "      <td>3542602</td>\n",
       "      <td>32.0</td>\n",
       "      <td>FEMININO</td>\n",
       "      <td>CONFIRMADO</td>\n",
       "      <td>2020-12-31</td>\n",
       "      <td>Sobreviveu</td>\n",
       "      <td>IGNORADO</td>\n",
       "      <td>IGNORADO</td>\n",
       "      <td>IGNORADO</td>\n",
       "      <td>IGNORADO</td>\n",
       "      <td>IGNORADO</td>\n",
       "      <td>IGNORADO</td>\n",
       "      <td>IGNORADO</td>\n",
       "      <td>IGNORADO</td>\n",
       "      <td>IGNORADO</td>\n",
       "      <td>IGNORADO</td>\n",
       "      <td>IGNORADO</td>\n",
       "      <td>IGNORADO</td>\n",
       "      <td>IGNORADO</td>\n",
       "    </tr>\n",
       "  </tbody>\n",
       "</table>\n",
       "<p>2039181 rows × 20 columns</p>\n",
       "</div>"
      ],
      "text/plain": [
       "                     nome_munic  codigo_ibge  idade    cs_sexo  \\\n",
       "0                   Carapicuíba      3510609   36.0   FEMININO   \n",
       "1                       Jacareí      3524402   54.0   FEMININO   \n",
       "2        Vargem Grande Paulista      3556453   33.0   FEMININO   \n",
       "3                      Paulínia      3536505   47.0   FEMININO   \n",
       "4                   Santo André      3547809   41.0   FEMININO   \n",
       "...                         ...          ...    ...        ...   \n",
       "2044694               São Paulo      3550308   18.0  MASCULINO   \n",
       "2044695        Campos do Jordão      3509700   42.0   FEMININO   \n",
       "2044696           Ilha Solteira      3520442   26.0   FEMININO   \n",
       "2044697                  Guareí      3518503   31.0  MASCULINO   \n",
       "2044698                Registro      3542602   32.0   FEMININO   \n",
       "\n",
       "        diagnostico_covid19 data_inicio_sintomas       obito      asma  \\\n",
       "0                CONFIRMADO           2020-07-10  Sobreviveu  IGNORADO   \n",
       "1                CONFIRMADO           2020-07-09  Sobreviveu  IGNORADO   \n",
       "2                CONFIRMADO           2020-07-10  Sobreviveu  IGNORADO   \n",
       "3                CONFIRMADO           2021-01-25  Sobreviveu  IGNORADO   \n",
       "4                CONFIRMADO           2021-01-10  Sobreviveu  IGNORADO   \n",
       "...                     ...                  ...         ...       ...   \n",
       "2044694          CONFIRMADO           2020-06-17  Sobreviveu  IGNORADO   \n",
       "2044695          CONFIRMADO           2021-01-24  Sobreviveu  IGNORADO   \n",
       "2044696          CONFIRMADO           2021-01-14  Sobreviveu  IGNORADO   \n",
       "2044697          CONFIRMADO                  NaN  Sobreviveu  IGNORADO   \n",
       "2044698          CONFIRMADO           2020-12-31  Sobreviveu  IGNORADO   \n",
       "\n",
       "        cardiopatia  diabetes doenca_hematologica doenca_hepatica  \\\n",
       "0          IGNORADO  IGNORADO            IGNORADO        IGNORADO   \n",
       "1          IGNORADO  IGNORADO            IGNORADO        IGNORADO   \n",
       "2          IGNORADO  IGNORADO            IGNORADO        IGNORADO   \n",
       "3          IGNORADO  IGNORADO            IGNORADO        IGNORADO   \n",
       "4          IGNORADO  IGNORADO            IGNORADO        IGNORADO   \n",
       "...             ...       ...                 ...             ...   \n",
       "2044694    IGNORADO  IGNORADO            IGNORADO        IGNORADO   \n",
       "2044695    IGNORADO  IGNORADO            IGNORADO        IGNORADO   \n",
       "2044696    IGNORADO  IGNORADO            IGNORADO        IGNORADO   \n",
       "2044697    IGNORADO  IGNORADO            IGNORADO        IGNORADO   \n",
       "2044698    IGNORADO  IGNORADO            IGNORADO        IGNORADO   \n",
       "\n",
       "        doenca_neurologica doenca_renal imunodepressao obesidade  \\\n",
       "0                 IGNORADO     IGNORADO       IGNORADO  IGNORADO   \n",
       "1                 IGNORADO     IGNORADO       IGNORADO  IGNORADO   \n",
       "2                 IGNORADO     IGNORADO       IGNORADO  IGNORADO   \n",
       "3                 IGNORADO     IGNORADO       IGNORADO  IGNORADO   \n",
       "4                 IGNORADO     IGNORADO       IGNORADO  IGNORADO   \n",
       "...                    ...          ...            ...       ...   \n",
       "2044694           IGNORADO     IGNORADO       IGNORADO  IGNORADO   \n",
       "2044695           IGNORADO     IGNORADO       IGNORADO  IGNORADO   \n",
       "2044696           IGNORADO     IGNORADO       IGNORADO  IGNORADO   \n",
       "2044697           IGNORADO     IGNORADO       IGNORADO  IGNORADO   \n",
       "2044698           IGNORADO     IGNORADO       IGNORADO  IGNORADO   \n",
       "\n",
       "        outros_fatores_de_risco pneumopatia  puerpera sindrome_de_down  \n",
       "0                      IGNORADO    IGNORADO  IGNORADO         IGNORADO  \n",
       "1                      IGNORADO    IGNORADO  IGNORADO         IGNORADO  \n",
       "2                      IGNORADO    IGNORADO  IGNORADO         IGNORADO  \n",
       "3                      IGNORADO    IGNORADO  IGNORADO         IGNORADO  \n",
       "4                      IGNORADO    IGNORADO  IGNORADO         IGNORADO  \n",
       "...                         ...         ...       ...              ...  \n",
       "2044694                IGNORADO    IGNORADO  IGNORADO         IGNORADO  \n",
       "2044695                IGNORADO    IGNORADO  IGNORADO         IGNORADO  \n",
       "2044696                IGNORADO    IGNORADO  IGNORADO         IGNORADO  \n",
       "2044697                IGNORADO    IGNORADO  IGNORADO         IGNORADO  \n",
       "2044698                IGNORADO    IGNORADO  IGNORADO         IGNORADO  \n",
       "\n",
       "[2039181 rows x 20 columns]"
      ]
     },
     "execution_count": 18,
     "metadata": {},
     "output_type": "execute_result"
    }
   ],
   "source": [
    "df_doenca"
   ]
  },
  {
   "cell_type": "code",
   "execution_count": 19,
   "metadata": {},
   "outputs": [
    {
     "data": {
      "text/plain": [
       "Sobreviveu    1979636\n",
       "Morreu          59545\n",
       "Name: obito, dtype: int64"
      ]
     },
     "execution_count": 19,
     "metadata": {},
     "output_type": "execute_result"
    }
   ],
   "source": [
    "df_doenca['obito'].value_counts()"
   ]
  },
  {
   "cell_type": "code",
   "execution_count": 20,
   "metadata": {},
   "outputs": [],
   "source": [
    "#df_doenca['cs_sexo'] = df_doenca['cs_sexo'].replace({'FEMININO': 1, 'MASCULINO': 0})"
   ]
  },
  {
   "cell_type": "code",
   "execution_count": 21,
   "metadata": {},
   "outputs": [],
   "source": [
    "df_doenca.cs_sexo = df_doenca.cs_sexo.astype('category')"
   ]
  },
  {
   "cell_type": "code",
   "execution_count": 22,
   "metadata": {},
   "outputs": [],
   "source": [
    "df_doenca.obito = df_doenca.obito.astype('category')"
   ]
  },
  {
   "cell_type": "code",
   "execution_count": 23,
   "metadata": {},
   "outputs": [
    {
     "data": {
      "text/plain": [
       "nome_munic                   object\n",
       "codigo_ibge                   int64\n",
       "idade                       float64\n",
       "cs_sexo                    category\n",
       "diagnostico_covid19          object\n",
       "data_inicio_sintomas         object\n",
       "obito                      category\n",
       "asma                         object\n",
       "cardiopatia                  object\n",
       "diabetes                     object\n",
       "doenca_hematologica          object\n",
       "doenca_hepatica              object\n",
       "doenca_neurologica           object\n",
       "doenca_renal                 object\n",
       "imunodepressao               object\n",
       "obesidade                    object\n",
       "outros_fatores_de_risco      object\n",
       "pneumopatia                  object\n",
       "puerpera                     object\n",
       "sindrome_de_down             object\n",
       "dtype: object"
      ]
     },
     "execution_count": 23,
     "metadata": {},
     "output_type": "execute_result"
    }
   ],
   "source": [
    "df_doenca.dtypes"
   ]
  },
  {
   "cell_type": "code",
   "execution_count": 24,
   "metadata": {},
   "outputs": [
    {
     "ename": "NameError",
     "evalue": "name 'reg_logistic' is not defined",
     "output_type": "error",
     "traceback": [
      "\u001b[1;31m---------------------------------------------------------------------------\u001b[0m",
      "\u001b[1;31mNameError\u001b[0m                                 Traceback (most recent call last)",
      "\u001b[1;32m<ipython-input-24-62718f5af5d0>\u001b[0m in \u001b[0;36m<module>\u001b[1;34m\u001b[0m\n\u001b[1;32m----> 1\u001b[1;33m \u001b[0my_pred\u001b[0m \u001b[1;33m=\u001b[0m \u001b[0mreg_logistic\u001b[0m\u001b[1;33m.\u001b[0m\u001b[0mpredict\u001b[0m\u001b[1;33m(\u001b[0m\u001b[0mx\u001b[0m\u001b[1;33m)\u001b[0m\u001b[1;33m\u001b[0m\u001b[1;33m\u001b[0m\u001b[0m\n\u001b[0m",
      "\u001b[1;31mNameError\u001b[0m: name 'reg_logistic' is not defined"
     ]
    }
   ],
   "source": [
    "y_pred = reg_logistic.predict(x)"
   ]
  },
  {
   "cell_type": "code",
   "execution_count": null,
   "metadata": {},
   "outputs": [],
   "source": [
    "#Acurácia dos dados de teste\n",
    "reg_logistic.score(x,y)"
   ]
  },
  {
   "cell_type": "code",
   "execution_count": null,
   "metadata": {},
   "outputs": [],
   "source": [
    "reg_logistic.decision_function(x)"
   ]
  },
  {
   "cell_type": "code",
   "execution_count": null,
   "metadata": {},
   "outputs": [],
   "source": [
    "from sklearn.metrics import confusion_matrix"
   ]
  },
  {
   "cell_type": "code",
   "execution_count": null,
   "metadata": {},
   "outputs": [],
   "source": [
    "confusion_matrix(y, y_pred)"
   ]
  },
  {
   "cell_type": "markdown",
   "metadata": {},
   "source": [
    "## Modelo 1 variável independente"
   ]
  },
  {
   "cell_type": "markdown",
   "metadata": {},
   "source": [
    "Analisando uma variável independente e categorias mutualmente exclusivas (uma pessoa não pode estar em mais de uma situação).\n",
    "\n",
    "Para a análise do modelo:\n",
    "\n",
    "p <= 0 : Modelo estatisticamente significativo\n",
    "\n",
    "p > 0 : Modelo estatisticamente não significativo"
   ]
  },
  {
   "cell_type": "markdown",
   "metadata": {},
   "source": [
    "import statsmodels.api as sm\n",
    "import statsmodels.formula.api as smf"
   ]
  },
  {
   "cell_type": "code",
   "execution_count": 30,
   "metadata": {},
   "outputs": [],
   "source": [
    "import statsmodels.api as sm\n",
    "import statsmodels.formula.api as smf"
   ]
  },
  {
   "cell_type": "code",
   "execution_count": 31,
   "metadata": {},
   "outputs": [],
   "source": [
    "modelo = smf.glm(formula = 'obito ~ cs_sexo', data = df_doenca, family = sm.families.Binomial()).fit()"
   ]
  },
  {
   "cell_type": "code",
   "execution_count": 32,
   "metadata": {},
   "outputs": [
    {
     "name": "stdout",
     "output_type": "stream",
     "text": [
      "                           Generalized Linear Model Regression Results                            \n",
      "==================================================================================================\n",
      "Dep. Variable:     ['obito[Morreu]', 'obito[Sobreviveu]']   No. Observations:              2039181\n",
      "Model:                                                GLM   Df Residuals:                  2039179\n",
      "Model Family:                                    Binomial   Df Model:                            1\n",
      "Link Function:                                      logit   Scale:                          1.0000\n",
      "Method:                                              IRLS   Log-Likelihood:            -2.6764e+05\n",
      "Date:                                    Tue, 16 Aug 2022   Deviance:                   5.3528e+05\n",
      "Time:                                            09:54:43   Pearson chi2:                 2.04e+06\n",
      "No. Iterations:                                         7                                         \n",
      "Covariance Type:                                nonrobust                                         \n",
      "========================================================================================\n",
      "                           coef    std err          z      P>|z|      [0.025      0.975]\n",
      "----------------------------------------------------------------------------------------\n",
      "Intercept               -3.7342      0.006   -589.864      0.000      -3.747      -3.722\n",
      "cs_sexo[T.MASCULINO]     0.4467      0.008     53.168      0.000       0.430       0.463\n",
      "========================================================================================\n"
     ]
    }
   ],
   "source": [
    "print(modelo.summary())"
   ]
  },
  {
   "cell_type": "markdown",
   "metadata": {},
   "source": [
    "Analisando os dados observa-se que valor p é zero, assim o modelo é estatisticamente significativo. Como a variável cs_sexo está masculino, quer dizer que os dados se baseam no nessa variável."
   ]
  },
  {
   "cell_type": "code",
   "execution_count": 33,
   "metadata": {},
   "outputs": [
    {
     "data": {
      "text/plain": [
       "Intercept              -3.734223\n",
       "cs_sexo[T.MASCULINO]    0.446708\n",
       "dtype: float64"
      ]
     },
     "execution_count": 33,
     "metadata": {},
     "output_type": "execute_result"
    }
   ],
   "source": [
    "modelo.params"
   ]
  },
  {
   "cell_type": "code",
   "execution_count": 34,
   "metadata": {},
   "outputs": [
    {
     "data": {
      "text/plain": [
       "1.5631574840905882"
      ]
     },
     "execution_count": 34,
     "metadata": {},
     "output_type": "execute_result"
    }
   ],
   "source": [
    "# Razão de chance com Intervalo de confiança de 95%, colocando na equação \n",
    "razao = np.exp(modelo.params[1])\n",
    "razao"
   ]
  },
  {
   "cell_type": "code",
   "execution_count": 35,
   "metadata": {},
   "outputs": [
    {
     "data": {
      "text/plain": [
       "0.6397308077898362"
      ]
     },
     "execution_count": 35,
     "metadata": {},
     "output_type": "execute_result"
    }
   ],
   "source": [
    "coef = 1/razao\n",
    "coef"
   ]
  },
  {
   "cell_type": "markdown",
   "metadata": {},
   "source": [
    "A razão sendo 1,56% diz que em um intervalo de confiança de 95%, a chance de uma pessoa do sexo masculino sobreviver é de 1,56 vezes maior que a do sexo feminino"
   ]
  },
  {
   "cell_type": "markdown",
   "metadata": {},
   "source": [
    "Já o coeficiente sendo 0,63 significa que a chance de uma pessoa do sexo masculino ir a obito é de 0,63 vezes menor que do sexo feminino"
   ]
  },
  {
   "cell_type": "markdown",
   "metadata": {},
   "source": [
    "## Modelo 2 mais de 1 variável independente"
   ]
  },
  {
   "cell_type": "markdown",
   "metadata": {},
   "source": [
    "Diabetes e sexo"
   ]
  },
  {
   "cell_type": "code",
   "execution_count": 36,
   "metadata": {},
   "outputs": [
    {
     "data": {
      "text/plain": [
       "IGNORADO    1859885\n",
       "SIM          125108\n",
       "NÃO           54188\n",
       "Name: diabetes, dtype: int64"
      ]
     },
     "execution_count": 36,
     "metadata": {},
     "output_type": "execute_result"
    }
   ],
   "source": [
    "df_doenca.diabetes.value_counts()"
   ]
  },
  {
   "cell_type": "code",
   "execution_count": 37,
   "metadata": {},
   "outputs": [
    {
     "data": {
      "image/png": "[encoded data removed]",
      "text/plain": [
       "<Figure size 432x288 with 1 Axes>"
      ]
     },
     "metadata": {},
     "output_type": "display_data"
    }
   ],
   "source": [
    "plt.pie(df_doenca.diabetes.value_counts())\n",
    "plt.title('Relação diabetes')\n",
    "plt.legend(df_doenca.diabetes.value_counts().index)\n",
    "plt.show()"
   ]
  },
  {
   "cell_type": "markdown",
   "metadata": {},
   "source": [
    "Existem uma quantidade significativa de dados ignorados que não representam o sistema em que precisaríamos da relação de pessoas com ou sem diabetes. Sendo assim, ou coletamos mais dados para balancear nossa amostra, ou analisamos outro tipo de atributo.\n",
    "\n",
    "Como não podemos coletar mais dados, iremos analisar outro tipo de atributo"
   ]
  },
  {
   "cell_type": "markdown",
   "metadata": {},
   "source": [
    "## Modelo 3 variável independente numérica"
   ]
  },
  {
   "cell_type": "markdown",
   "metadata": {},
   "source": [
    "Variável idade versus obito"
   ]
  },
  {
   "cell_type": "code",
   "execution_count": 38,
   "metadata": {},
   "outputs": [
    {
     "data": {
      "text/plain": [
       "2705"
      ]
     },
     "execution_count": 38,
     "metadata": {},
     "output_type": "execute_result"
    }
   ],
   "source": [
    "df_doenca.idade.isnull().sum()"
   ]
  },
  {
   "cell_type": "code",
   "execution_count": 39,
   "metadata": {},
   "outputs": [
    {
     "data": {
      "text/plain": [
       "2039181"
      ]
     },
     "execution_count": 39,
     "metadata": {},
     "output_type": "execute_result"
    }
   ],
   "source": [
    "len(df_doenca.idade)"
   ]
  },
  {
   "cell_type": "code",
   "execution_count": 40,
   "metadata": {
    "scrolled": true
   },
   "outputs": [
    {
     "data": {
      "text/plain": [
       "count    2.036476e+06\n",
       "mean     4.165667e+01\n",
       "std      1.753547e+01\n",
       "min      0.000000e+00\n",
       "25%      2.900000e+01\n",
       "50%      4.000000e+01\n",
       "75%      5.300000e+01\n",
       "max      1.490000e+02\n",
       "Name: idade, dtype: float64"
      ]
     },
     "execution_count": 40,
     "metadata": {},
     "output_type": "execute_result"
    }
   ],
   "source": [
    "df_doenca.idade.describe()"
   ]
  },
  {
   "cell_type": "code",
   "execution_count": 41,
   "metadata": {},
   "outputs": [
    {
     "data": {
      "text/plain": [
       "<AxesSubplot:>"
      ]
     },
     "execution_count": 41,
     "metadata": {},
     "output_type": "execute_result"
    },
    {
     "data": {
      "image/png": "[encoded data removed]",
      "text/plain": [
       "<Figure size 432x288 with 1 Axes>"
      ]
     },
     "metadata": {
      "needs_background": "light"
     },
     "output_type": "display_data"
    }
   ],
   "source": [
    "df_doenca['idade'].hist()"
   ]
  },
  {
   "cell_type": "code",
   "execution_count": 42,
   "metadata": {},
   "outputs": [
    {
     "name": "stdout",
     "output_type": "stream",
     "text": [
      "Mediana: 40.0 e Média: 41.7\n"
     ]
    }
   ],
   "source": [
    "print('Mediana: {:.1f} e Média: {:.1f}'.format(df_doenca['idade'].median(), df_doenca['idade'].mean()))"
   ]
  },
  {
   "cell_type": "markdown",
   "metadata": {},
   "source": [
    "Em comparação com o todo, existem poucos dados nulos. Iremos fazer substituir esses valores pela mediana afim de não perder muito as informações."
   ]
  },
  {
   "cell_type": "code",
   "execution_count": 43,
   "metadata": {},
   "outputs": [],
   "source": [
    "df_doenca['idade'] = df_doenca['idade'].fillna(df_doenca['idade'].median())"
   ]
  },
  {
   "cell_type": "code",
   "execution_count": 44,
   "metadata": {},
   "outputs": [
    {
     "data": {
      "image/png": "[encoded data removed]",
      "text/plain": [
       "<Figure size 432x288 with 1 Axes>"
      ]
     },
     "metadata": {
      "needs_background": "light"
     },
     "output_type": "display_data"
    }
   ],
   "source": [
    "import matplotlib.pyplot as plt\n",
    "plt.scatter(df_doenca.idade,df_doenca.obito)\n",
    "plt.xlabel('IDADE')\n",
    "plt.ylabel('ÓBITO')\n",
    "plt.grid(False)\n",
    "plt.show()"
   ]
  },
  {
   "cell_type": "code",
   "execution_count": 45,
   "metadata": {},
   "outputs": [],
   "source": [
    "modelo3 = smf.glm(formula='obito ~ idade', data = df_doenca, family = sm.families.Binomial()).fit()"
   ]
  },
  {
   "cell_type": "code",
   "execution_count": 46,
   "metadata": {},
   "outputs": [
    {
     "name": "stdout",
     "output_type": "stream",
     "text": [
      "                           Generalized Linear Model Regression Results                            \n",
      "==================================================================================================\n",
      "Dep. Variable:     ['obito[Morreu]', 'obito[Sobreviveu]']   No. Observations:              2039181\n",
      "Model:                                                GLM   Df Residuals:                  2039179\n",
      "Model Family:                                    Binomial   Df Model:                            1\n",
      "Link Function:                                      logit   Scale:                          1.0000\n",
      "Method:                                              IRLS   Log-Likelihood:            -1.9719e+05\n",
      "Date:                                    Tue, 16 Aug 2022   Deviance:                   3.9438e+05\n",
      "Time:                                            09:55:06   Pearson chi2:                 2.03e+06\n",
      "No. Iterations:                                         8                                         \n",
      "Covariance Type:                                nonrobust                                         \n",
      "==============================================================================\n",
      "                 coef    std err          z      P>|z|      [0.025      0.975]\n",
      "------------------------------------------------------------------------------\n",
      "Intercept     -8.5877      0.019   -443.163      0.000      -8.626      -8.550\n",
      "idade          0.0923      0.000    324.338      0.000       0.092       0.093\n",
      "==============================================================================\n"
     ]
    }
   ],
   "source": [
    "print(modelo3.summary())"
   ]
  },
  {
   "cell_type": "code",
   "execution_count": 47,
   "metadata": {},
   "outputs": [
    {
     "data": {
      "text/plain": [
       "1.0966693962901772"
      ]
     },
     "execution_count": 47,
     "metadata": {},
     "output_type": "execute_result"
    }
   ],
   "source": [
    "# Razão de chance com Intervalo de confiança de 95%\n",
    "razao = np.exp(modelo3.params[1])\n",
    "razao"
   ]
  },
  {
   "cell_type": "markdown",
   "metadata": {},
   "source": [
    "Valor p é menor que 0,05 e portanto o modelo é estatísticamente significante. A razaõ sendo 1,10 significa que pessoas mais velhas tem chance de 1,10 vezes maior de sobrevivência que pessoas mais novas."
   ]
  },
  {
   "cell_type": "code",
   "execution_count": 48,
   "metadata": {},
   "outputs": [
    {
     "data": {
      "text/plain": [
       "0          Sobreviveu\n",
       "1          Sobreviveu\n",
       "2          Sobreviveu\n",
       "3          Sobreviveu\n",
       "4          Sobreviveu\n",
       "              ...    \n",
       "2044694    Sobreviveu\n",
       "2044695    Sobreviveu\n",
       "2044696    Sobreviveu\n",
       "2044697    Sobreviveu\n",
       "2044698    Sobreviveu\n",
       "Name: obito, Length: 2039181, dtype: category\n",
       "Categories (2, object): ['Morreu', 'Sobreviveu']"
      ]
     },
     "execution_count": 48,
     "metadata": {},
     "output_type": "execute_result"
    }
   ],
   "source": [
    "df_doenca.iloc[:,6]"
   ]
  },
  {
   "cell_type": "markdown",
   "metadata": {},
   "source": [
    "### Construindo o modelo com Sklearn"
   ]
  },
  {
   "cell_type": "code",
   "execution_count": 49,
   "metadata": {},
   "outputs": [],
   "source": [
    "from sklearn.linear_model import LogisticRegression"
   ]
  },
  {
   "cell_type": "code",
   "execution_count": 50,
   "metadata": {},
   "outputs": [
    {
     "data": {
      "text/html": [
       "<div>\n",
       "<style scoped>\n",
       "    .dataframe tbody tr th:only-of-type {\n",
       "        vertical-align: middle;\n",
       "    }\n",
       "\n",
       "    .dataframe tbody tr th {\n",
       "        vertical-align: top;\n",
       "    }\n",
       "\n",
       "    .dataframe thead th {\n",
       "        text-align: right;\n",
       "    }\n",
       "</style>\n",
       "<table border=\"1\" class=\"dataframe\">\n",
       "  <thead>\n",
       "    <tr style=\"text-align: right;\">\n",
       "      <th></th>\n",
       "      <th>nome_munic</th>\n",
       "      <th>codigo_ibge</th>\n",
       "      <th>idade</th>\n",
       "      <th>cs_sexo</th>\n",
       "      <th>diagnostico_covid19</th>\n",
       "      <th>data_inicio_sintomas</th>\n",
       "      <th>obito</th>\n",
       "      <th>asma</th>\n",
       "      <th>cardiopatia</th>\n",
       "      <th>diabetes</th>\n",
       "      <th>doenca_hematologica</th>\n",
       "      <th>doenca_hepatica</th>\n",
       "      <th>doenca_neurologica</th>\n",
       "      <th>doenca_renal</th>\n",
       "      <th>imunodepressao</th>\n",
       "      <th>obesidade</th>\n",
       "      <th>outros_fatores_de_risco</th>\n",
       "      <th>pneumopatia</th>\n",
       "      <th>puerpera</th>\n",
       "      <th>sindrome_de_down</th>\n",
       "    </tr>\n",
       "  </thead>\n",
       "  <tbody>\n",
       "    <tr>\n",
       "      <th>0</th>\n",
       "      <td>Carapicuíba</td>\n",
       "      <td>3510609</td>\n",
       "      <td>36.0</td>\n",
       "      <td>FEMININO</td>\n",
       "      <td>CONFIRMADO</td>\n",
       "      <td>2020-07-10</td>\n",
       "      <td>Sobreviveu</td>\n",
       "      <td>IGNORADO</td>\n",
       "      <td>IGNORADO</td>\n",
       "      <td>IGNORADO</td>\n",
       "      <td>IGNORADO</td>\n",
       "      <td>IGNORADO</td>\n",
       "      <td>IGNORADO</td>\n",
       "      <td>IGNORADO</td>\n",
       "      <td>IGNORADO</td>\n",
       "      <td>IGNORADO</td>\n",
       "      <td>IGNORADO</td>\n",
       "      <td>IGNORADO</td>\n",
       "      <td>IGNORADO</td>\n",
       "      <td>IGNORADO</td>\n",
       "    </tr>\n",
       "    <tr>\n",
       "      <th>1</th>\n",
       "      <td>Jacareí</td>\n",
       "      <td>3524402</td>\n",
       "      <td>54.0</td>\n",
       "      <td>FEMININO</td>\n",
       "      <td>CONFIRMADO</td>\n",
       "      <td>2020-07-09</td>\n",
       "      <td>Sobreviveu</td>\n",
       "      <td>IGNORADO</td>\n",
       "      <td>IGNORADO</td>\n",
       "      <td>IGNORADO</td>\n",
       "      <td>IGNORADO</td>\n",
       "      <td>IGNORADO</td>\n",
       "      <td>IGNORADO</td>\n",
       "      <td>IGNORADO</td>\n",
       "      <td>IGNORADO</td>\n",
       "      <td>IGNORADO</td>\n",
       "      <td>IGNORADO</td>\n",
       "      <td>IGNORADO</td>\n",
       "      <td>IGNORADO</td>\n",
       "      <td>IGNORADO</td>\n",
       "    </tr>\n",
       "    <tr>\n",
       "      <th>2</th>\n",
       "      <td>Vargem Grande Paulista</td>\n",
       "      <td>3556453</td>\n",
       "      <td>33.0</td>\n",
       "      <td>FEMININO</td>\n",
       "      <td>CONFIRMADO</td>\n",
       "      <td>2020-07-10</td>\n",
       "      <td>Sobreviveu</td>\n",
       "      <td>IGNORADO</td>\n",
       "      <td>IGNORADO</td>\n",
       "      <td>IGNORADO</td>\n",
       "      <td>IGNORADO</td>\n",
       "      <td>IGNORADO</td>\n",
       "      <td>IGNORADO</td>\n",
       "      <td>IGNORADO</td>\n",
       "      <td>IGNORADO</td>\n",
       "      <td>IGNORADO</td>\n",
       "      <td>IGNORADO</td>\n",
       "      <td>IGNORADO</td>\n",
       "      <td>IGNORADO</td>\n",
       "      <td>IGNORADO</td>\n",
       "    </tr>\n",
       "    <tr>\n",
       "      <th>3</th>\n",
       "      <td>Paulínia</td>\n",
       "      <td>3536505</td>\n",
       "      <td>47.0</td>\n",
       "      <td>FEMININO</td>\n",
       "      <td>CONFIRMADO</td>\n",
       "      <td>2021-01-25</td>\n",
       "      <td>Sobreviveu</td>\n",
       "      <td>IGNORADO</td>\n",
       "      <td>IGNORADO</td>\n",
       "      <td>IGNORADO</td>\n",
       "      <td>IGNORADO</td>\n",
       "      <td>IGNORADO</td>\n",
       "      <td>IGNORADO</td>\n",
       "      <td>IGNORADO</td>\n",
       "      <td>IGNORADO</td>\n",
       "      <td>IGNORADO</td>\n",
       "      <td>IGNORADO</td>\n",
       "      <td>IGNORADO</td>\n",
       "      <td>IGNORADO</td>\n",
       "      <td>IGNORADO</td>\n",
       "    </tr>\n",
       "    <tr>\n",
       "      <th>4</th>\n",
       "      <td>Santo André</td>\n",
       "      <td>3547809</td>\n",
       "      <td>41.0</td>\n",
       "      <td>FEMININO</td>\n",
       "      <td>CONFIRMADO</td>\n",
       "      <td>2021-01-10</td>\n",
       "      <td>Sobreviveu</td>\n",
       "      <td>IGNORADO</td>\n",
       "      <td>IGNORADO</td>\n",
       "      <td>IGNORADO</td>\n",
       "      <td>IGNORADO</td>\n",
       "      <td>IGNORADO</td>\n",
       "      <td>IGNORADO</td>\n",
       "      <td>IGNORADO</td>\n",
       "      <td>IGNORADO</td>\n",
       "      <td>IGNORADO</td>\n",
       "      <td>IGNORADO</td>\n",
       "      <td>IGNORADO</td>\n",
       "      <td>IGNORADO</td>\n",
       "      <td>IGNORADO</td>\n",
       "    </tr>\n",
       "  </tbody>\n",
       "</table>\n",
       "</div>"
      ],
      "text/plain": [
       "               nome_munic  codigo_ibge  idade   cs_sexo diagnostico_covid19  \\\n",
       "0             Carapicuíba      3510609   36.0  FEMININO          CONFIRMADO   \n",
       "1                 Jacareí      3524402   54.0  FEMININO          CONFIRMADO   \n",
       "2  Vargem Grande Paulista      3556453   33.0  FEMININO          CONFIRMADO   \n",
       "3                Paulínia      3536505   47.0  FEMININO          CONFIRMADO   \n",
       "4             Santo André      3547809   41.0  FEMININO          CONFIRMADO   \n",
       "\n",
       "  data_inicio_sintomas       obito      asma cardiopatia  diabetes  \\\n",
       "0           2020-07-10  Sobreviveu  IGNORADO    IGNORADO  IGNORADO   \n",
       "1           2020-07-09  Sobreviveu  IGNORADO    IGNORADO  IGNORADO   \n",
       "2           2020-07-10  Sobreviveu  IGNORADO    IGNORADO  IGNORADO   \n",
       "3           2021-01-25  Sobreviveu  IGNORADO    IGNORADO  IGNORADO   \n",
       "4           2021-01-10  Sobreviveu  IGNORADO    IGNORADO  IGNORADO   \n",
       "\n",
       "  doenca_hematologica doenca_hepatica doenca_neurologica doenca_renal  \\\n",
       "0            IGNORADO        IGNORADO           IGNORADO     IGNORADO   \n",
       "1            IGNORADO        IGNORADO           IGNORADO     IGNORADO   \n",
       "2            IGNORADO        IGNORADO           IGNORADO     IGNORADO   \n",
       "3            IGNORADO        IGNORADO           IGNORADO     IGNORADO   \n",
       "4            IGNORADO        IGNORADO           IGNORADO     IGNORADO   \n",
       "\n",
       "  imunodepressao obesidade outros_fatores_de_risco pneumopatia  puerpera  \\\n",
       "0       IGNORADO  IGNORADO                IGNORADO    IGNORADO  IGNORADO   \n",
       "1       IGNORADO  IGNORADO                IGNORADO    IGNORADO  IGNORADO   \n",
       "2       IGNORADO  IGNORADO                IGNORADO    IGNORADO  IGNORADO   \n",
       "3       IGNORADO  IGNORADO                IGNORADO    IGNORADO  IGNORADO   \n",
       "4       IGNORADO  IGNORADO                IGNORADO    IGNORADO  IGNORADO   \n",
       "\n",
       "  sindrome_de_down  \n",
       "0         IGNORADO  \n",
       "1         IGNORADO  \n",
       "2         IGNORADO  \n",
       "3         IGNORADO  \n",
       "4         IGNORADO  "
      ]
     },
     "execution_count": 50,
     "metadata": {},
     "output_type": "execute_result"
    }
   ],
   "source": [
    "df_doenca.head()"
   ]
  },
  {
   "cell_type": "code",
   "execution_count": 51,
   "metadata": {},
   "outputs": [],
   "source": [
    "x = df_doenca[['idade']]\n",
    "y = df_doenca['obito']"
   ]
  },
  {
   "cell_type": "code",
   "execution_count": 52,
   "metadata": {},
   "outputs": [
    {
     "data": {
      "text/plain": [
       "LogisticRegression()"
      ]
     },
     "execution_count": 52,
     "metadata": {},
     "output_type": "execute_result"
    }
   ],
   "source": [
    "modelo4 = LogisticRegression()\n",
    "modelo4.fit(x, y)"
   ]
  },
  {
   "cell_type": "code",
   "execution_count": 53,
   "metadata": {},
   "outputs": [
    {
     "data": {
      "text/plain": [
       "array([[-0.09227767]])"
      ]
     },
     "execution_count": 53,
     "metadata": {},
     "output_type": "execute_result"
    }
   ],
   "source": [
    "modelo4.coef_"
   ]
  },
  {
   "cell_type": "code",
   "execution_count": 54,
   "metadata": {},
   "outputs": [
    {
     "data": {
      "text/plain": [
       "array([8.58773881])"
      ]
     },
     "execution_count": 54,
     "metadata": {},
     "output_type": "execute_result"
    }
   ],
   "source": [
    "modelo4.intercept_"
   ]
  },
  {
   "cell_type": "code",
   "execution_count": 55,
   "metadata": {},
   "outputs": [
    {
     "data": {
      "text/plain": [
       "array([[0.91185192]])"
      ]
     },
     "execution_count": 55,
     "metadata": {},
     "output_type": "execute_result"
    }
   ],
   "source": [
    "np.exp(modelo4.coef_)"
   ]
  },
  {
   "cell_type": "code",
   "execution_count": 56,
   "metadata": {},
   "outputs": [
    {
     "data": {
      "image/png": "[encoded data removed]",
      "text/plain": [
       "<Figure size 432x288 with 1 Axes>"
      ]
     },
     "metadata": {
      "needs_background": "light"
     },
     "output_type": "display_data"
    }
   ],
   "source": [
    "plt.scatter(x, y)\n",
    "# Geração de novos dados para gerar a função sigmoide\n",
    "x_teste = np.linspace(0, 130, 100)\n",
    "\n",
    "def model(w):   # função sigmoide\n",
    "    return 1 / (1 + np.exp(-w))\n",
    "# Geração de previsões (variável r) e visualização dos resultados\n",
    "previsao = model(x_teste * modelo4.coef_ + modelo4.intercept_).ravel()\n",
    "plt.plot(x_teste, previsao, color = 'red');"
   ]
  },
  {
   "cell_type": "code",
   "execution_count": 72,
   "metadata": {},
   "outputs": [
    {
     "data": {
      "text/plain": [
       "Sobreviveu    2035138\n",
       "Morreu           4043\n",
       "dtype: int64"
      ]
     },
     "execution_count": 72,
     "metadata": {},
     "output_type": "execute_result"
    }
   ],
   "source": [
    "y_previsto = modelo4.predict(x)\n",
    "pd.Series(y_previsto).value_counts()"
   ]
  },
  {
   "cell_type": "code",
   "execution_count": 82,
   "metadata": {},
   "outputs": [
    {
     "data": {
      "text/plain": [
       "array([[   1452,   58093],\n",
       "       [   2591, 1977045]], dtype=int64)"
      ]
     },
     "execution_count": 82,
     "metadata": {},
     "output_type": "execute_result"
    }
   ],
   "source": [
    "from sklearn.metrics import confusion_matrix, accuracy_score\n",
    "confusion_matrix(y, y_previsto)"
   ]
  },
  {
   "cell_type": "code",
   "execution_count": 83,
   "metadata": {},
   "outputs": [
    {
     "data": {
      "text/plain": [
       "0.9702409938107505"
      ]
     },
     "execution_count": 83,
     "metadata": {},
     "output_type": "execute_result"
    }
   ],
   "source": [
    "accuracy_score(y,y_previsto)"
   ]
  },
  {
   "cell_type": "markdown",
   "metadata": {},
   "source": [
    "Utilizando a matrix de confusão e a acurácia como métrica para o modelo, obtivemos um resultado significativo."
   ]
  },
  {
   "cell_type": "code",
   "execution_count": null,
   "metadata": {},
   "outputs": [],
   "source": []
  }
 ],
 "metadata": {
  "kernelspec": {
   "display_name": "Python 3",
   "language": "python",
   "name": "python3"
  },
  "language_info": {
   "codemirror_mode": {
    "name": "ipython",
    "version": 3
   },
   "file_extension": ".py",
   "mimetype": "text/x-python",
   "name": "python",
   "nbconvert_exporter": "python",
   "pygments_lexer": "ipython3",
   "version": "3.8.5"
  }
 },
 "nbformat": 4,
 "nbformat_minor": 4
}
